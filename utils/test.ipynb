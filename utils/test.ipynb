{
 "cells": [
  {
   "cell_type": "code",
   "execution_count": 24,
   "metadata": {},
   "outputs": [
    {
     "name": "stdout",
     "output_type": "stream",
     "text": [
      "tensor([3, 4, 6])\n"
     ]
    }
   ],
   "source": [
    "import torch \n",
    "time = torch.randint(low=1, high=10, size=(3,))\n",
    "print(time)"
   ]
  },
  {
   "cell_type": "code",
   "execution_count": 28,
   "metadata": {},
   "outputs": [
    {
     "name": "stdout",
     "output_type": "stream",
     "text": [
      "torch.Size([10, 3, 64, 64])\n"
     ]
    }
   ],
   "source": [
    "from torch import nn\n",
    "data = torch.rand(10,3,128,128)\n",
    "layer = nn.MaxPool2d(2)\n",
    "print(layer(data).shape)"
   ]
  },
  {
   "cell_type": "code",
   "execution_count": 26,
   "metadata": {},
   "outputs": [
    {
     "name": "stdout",
     "output_type": "stream",
     "text": [
      "torch.Size([3, 128])\n"
     ]
    }
   ],
   "source": [
    "# Sinusoidal embedding\n",
    "channels = 128\n",
    "device= 'cpu'\n",
    "t = torch.randint(low=1, high=10, size=(3,))\n",
    "t = t.unsqueeze(-1)\n",
    "inv_freq = 1.0 / (\n",
    "    10000\n",
    "    ** (torch.arange(0, channels, 2, device=device).float() / channels)\n",
    ")\n",
    "pos_enc_a = torch.sin(t.repeat(1, channels // 2) * inv_freq)\n",
    "pos_enc_b = torch.cos(t.repeat(1, channels // 2) * inv_freq)\n",
    "pos_enc = torch.cat([pos_enc_a, pos_enc_b], dim=-1)\n",
    "print(pos_enc.shape)"
   ]
  },
  {
   "cell_type": "code",
   "execution_count": 40,
   "metadata": {},
   "outputs": [],
   "source": [
    "dir = '../../Data/Model_II/cdm/cdm_sim_100018885569244704564890691631658381792.npy'"
   ]
  },
  {
   "cell_type": "code",
   "execution_count": 41,
   "metadata": {},
   "outputs": [],
   "source": [
    "import numpy as np\n",
    "data = np.load(dir, allow_pickle=True)"
   ]
  },
  {
   "cell_type": "code",
   "execution_count": 42,
   "metadata": {},
   "outputs": [
    {
     "name": "stdout",
     "output_type": "stream",
     "text": [
      "(64, 64)\n"
     ]
    }
   ],
   "source": [
    "print(data.shape)"
   ]
  },
  {
   "cell_type": "code",
   "execution_count": 46,
   "metadata": {},
   "outputs": [
    {
     "data": {
      "text/plain": [
       "<matplotlib.image.AxesImage at 0x7ff82f4142f0>"
      ]
     },
     "execution_count": 46,
     "metadata": {},
     "output_type": "execute_result"
    },
    {
     "data": {
      "image/png": "[encoded data removed]",
      "text/plain": [
       "<Figure size 640x480 with 1 Axes>"
      ]
     },
     "metadata": {},
     "output_type": "display_data"
    }
   ],
   "source": [
    "import matplotlib.pyplot as plot\n",
    "plot.imshow(data)"
   ]
  },
  {
   "cell_type": "code",
   "execution_count": 47,
   "metadata": {},
   "outputs": [
    {
     "name": "stdout",
     "output_type": "stream",
     "text": [
      "4.162204894460244\n",
      "4.835022843863294e-12\n"
     ]
    }
   ],
   "source": [
    "print(np.max(data))\n",
    "print(np.min(data))"
   ]
  },
  {
   "cell_type": "code",
   "execution_count": 21,
   "metadata": {},
   "outputs": [
    {
     "ename": "NameError",
     "evalue": "name 'f' is not defined",
     "output_type": "error",
     "traceback": [
      "\u001b[0;31m---------------------------------------------------------------------------\u001b[0m",
      "\u001b[0;31mNameError\u001b[0m                                 Traceback (most recent call last)",
      "Cell \u001b[0;32mIn[21], line 5\u001b[0m\n\u001b[1;32m      3\u001b[0m images \u001b[39m=\u001b[39m []\n\u001b[1;32m      4\u001b[0m \u001b[39mfor\u001b[39;00m i \u001b[39min\u001b[39;00m \u001b[39mrange\u001b[39m(\u001b[39m1\u001b[39m,\u001b[39m33\u001b[39m):\n\u001b[0;32m----> 5\u001b[0m     file_path \u001b[39m=\u001b[39m os\u001b[39m.\u001b[39mpath\u001b[39m.\u001b[39mjoin(folder_path, f\u001b[39m.\u001b[39mname\u001b[39m.\u001b[39mendswith(\u001b[39m'\u001b[39m\u001b[39m.npy\u001b[39m\u001b[39m'\u001b[39m)) \n\u001b[1;32m      6\u001b[0m     image \u001b[39m=\u001b[39m np\u001b[39m.\u001b[39mload(file_path)\n\u001b[1;32m      7\u001b[0m     images\u001b[39m.\u001b[39mappend(torch\u001b[39m.\u001b[39mfrom_numpy(image))\n",
      "\u001b[0;31mNameError\u001b[0m: name 'f' is not defined"
     ]
    }
   ],
   "source": [
    "import os\n",
    "folder_path =  '../../Data/Model_II/axion/'\n",
    "images = []\n",
    "for i in range(1,33):\n",
    "    file_path = os.path.join(folder_path, f.name.endswith('.npy')) \n",
    "    image = np.load(file_path)\n",
    "    images.append(torch.from_numpy(image))\n",
    "\n",
    "grid = make_grid(images)\n",
    "ndarr = grid.permute(1, 2, 0).to('cpu').numpy()\n",
    "plt.imshow(ndarr, cmap='gray')"
   ]
  },
  {
   "cell_type": "code",
   "execution_count": null,
   "metadata": {},
   "outputs": [],
   "source": []
  }
 ],
 "metadata": {
  "kernelspec": {
   "display_name": "oc",
   "language": "python",
   "name": "python3"
  },
  "language_info": {
   "codemirror_mode": {
    "name": "ipython",
    "version": 3
   },
   "file_extension": ".py",
   "mimetype": "text/x-python",
   "name": "python",
   "nbconvert_exporter": "python",
   "pygments_lexer": "ipython3",
   "version": "3.12.2"
  },
  "orig_nbformat": 4,
  "vscode": {
   "interpreter": {
    "hash": "24560a826248b8310d952331fec85a551393ea154c67067d5080a1b9300348aa"
   }
  }
 },
 "nbformat": 4,
 "nbformat_minor": 2
}
